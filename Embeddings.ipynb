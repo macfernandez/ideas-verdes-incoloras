{
 "cells": [
  {
   "cell_type": "code",
   "execution_count": null,
   "id": "b4034483",
   "metadata": {},
   "outputs": [],
   "source": [
    "# Instalar librerías, en caso de que no las tengan instaladas.\n",
    "!pip install --upgrade pip\n",
    "!pip install -r requirements.txt"
   ]
  },
  {
   "cell_type": "code",
   "execution_count": null,
   "id": "f1a6880e",
   "metadata": {},
   "outputs": [],
   "source": [
    "# Comandos import\n",
    "import fasttext\n",
    "import numpy\n",
    "import gensim\n",
    "import logging\n",
    "import gensim.downloader as api\n",
    "from scipy import spatial\n",
    "import numpy as np\n",
    "from sklearn.feature_extraction.text import TfidfVectorizer\n",
    "from gensim.test.utils import datapath\n",
    "from gensim import utils"
   ]
  },
  {
   "cell_type": "markdown",
   "id": "024edb6d",
   "metadata": {},
   "source": [
    "# Algunas nociones básicas\n",
    "\n",
    "**Hipótesis distribucional**: Las palabras que aparecen en los mismos contextos tienen significados similares.\n",
    "\n",
    "**Semántica de vectores**: Semántica que implementa la hipótesis distribucional mediante un modelo de aprendizaje automático que construye representaciones del significado de las palabras de manera tal que cada palabra es un punto en un espacio multidimensional derivado de la distribución de las palabras vecinas en corpus. Cada punto se define mediante un vector que se denomina embedding.\n",
    "\n",
    "\n",
    "El primer modelo de semántica de vectores surgió en el área de análisis de sentimiento. Cada paalbra se representaba como un vector en un espacio de tres dimensiones: valencia, *arousal*, y dominancia.\n",
    "\n",
    "Los dos modelos más conocidos de semántica de vectores son tf-idf y word2vec."
   ]
  },
  {
   "cell_type": "markdown",
   "id": "b0ae9381",
   "metadata": {},
   "source": [
    "# tf-idf"
   ]
  },
  {
   "cell_type": "markdown",
   "id": "4f1794a8",
   "metadata": {},
   "source": [
    "**matriz de coocurrencia**: modelo vectorial para representar cuan frecuentemente coocurren las palabras. Existen distintos tipos: matriz de términos-documentos, en que las filas son palabras y las columnas son documentos; matriz de término-término, en que cada celda indica la cantidad de veces que coocurren la palabra de la columna con la de la fila.\n",
    "\n",
    "**tf**: frecuencia de un determinado término\n",
    "\n",
    "**df**: cantidad de documentos en que aparece un término.\n",
    "\n",
    "**idf**: número total de documentos dividido la cantidad de documentos en que aparece un término en cuestión."
   ]
  },
  {
   "cell_type": "code",
   "execution_count": null,
   "id": "0a0084cd",
   "metadata": {},
   "outputs": [],
   "source": [
    "corpus = ['vegetables are good for health', 'fruits are good too',\n",
    "'vegetables are good for health, fruits are good too and they are healthy']\n",
    "\n",
    "vectorizer = TfidfVectorizer(stop_words='english')\n",
    "tfidf_matrix = vectorizer.fit_transform(corpus).toarray()\n",
    "\n",
    "print(tfidf_matrix.shape) # Cantidad de documentos y cantidad de palabras\n",
    "print(vectorizer.get_feature_names()) # Términos a considerar"
   ]
  },
  {
   "cell_type": "code",
   "execution_count": null,
   "id": "7ddcf6f5",
   "metadata": {},
   "outputs": [],
   "source": [
    "tfidf0 = tfidf_matrix[0]\n",
    "tfidf1 = tfidf_matrix[1]\n",
    "tfidf2 = tfidf_matrix[2]\n",
    "\n",
    "print(tfidf0)\n",
    "print(tfidf1)\n",
    "print(tfidf2)"
   ]
  },
  {
   "cell_type": "code",
   "execution_count": null,
   "id": "a199405c",
   "metadata": {},
   "outputs": [],
   "source": [
    "query = ['fruits and vegetables are good for health']\n",
    "new_vector = vectorizer.transform(query).toarray().reshape(-1)\n",
    "\n",
    "print('tfidf0, similarity score: ',spatial.distance.cosine(new_vector,tfidf0))\n",
    "print('tfidf1, similarity score: ',spatial.distance.cosine(new_vector,tfidf1))\n",
    "print('tfidf2, similarity score: ',spatial.distance.cosine(new_vector,tfidf2))"
   ]
  },
  {
   "cell_type": "markdown",
   "id": "84128de9",
   "metadata": {},
   "source": [
    "# Word2vec"
   ]
  },
  {
   "cell_type": "code",
   "execution_count": null,
   "id": "05cd7a15",
   "metadata": {},
   "outputs": [],
   "source": [
    "logging.basicConfig(format='%(asctime)s : %(levelname)s : %(message)s', level=logging.INFO)\n",
    "wv = api.load('word2vec-google-news-300')"
   ]
  },
  {
   "cell_type": "code",
   "execution_count": null,
   "id": "93909974",
   "metadata": {},
   "outputs": [],
   "source": [
    "for index, word in enumerate(wv.index_to_key):\n",
    "    if index == 10:\n",
    "        break\n",
    "    print(f\"word #{index}/{len(wv.index_to_key)} is {word}\")"
   ]
  },
  {
   "cell_type": "code",
   "execution_count": null,
   "id": "a8a7a791",
   "metadata": {},
   "outputs": [],
   "source": [
    "vec_car = wv['car']\n",
    "print(vec_car)"
   ]
  },
  {
   "cell_type": "code",
   "execution_count": null,
   "id": "88f2e7d9",
   "metadata": {},
   "outputs": [],
   "source": [
    "pairs = [\n",
    "    ('car', 'minivan'),   # a minivan is a kind of car\n",
    "    ('car', 'bicycle'),   # still a wheeled vehicle\n",
    "    ('car', 'airplane'),  # ok, no wheels, but still a vehicle\n",
    "    ('car', 'cereal'),    # ... and so on\n",
    "    ('car', 'communism'),\n",
    "]\n",
    "for w1, w2 in pairs:\n",
    "    print('%r\\t%r\\t%.2f' % (w1, w2, wv.similarity(w1, w2)))"
   ]
  },
  {
   "cell_type": "code",
   "execution_count": null,
   "id": "de2aae41",
   "metadata": {},
   "outputs": [],
   "source": [
    "vec_king = wv['king']\n",
    "print(vec_king)\n"
   ]
  },
  {
   "cell_type": "code",
   "execution_count": null,
   "id": "fae86cc0",
   "metadata": {},
   "outputs": [],
   "source": [
    "vec_male = wv['male']\n",
    "print(vec_male)"
   ]
  },
  {
   "cell_type": "code",
   "execution_count": null,
   "id": "4e4bc506",
   "metadata": {},
   "outputs": [],
   "source": [
    "vec_woman = wv['woman']\n",
    "print(vec_woman)"
   ]
  },
  {
   "cell_type": "code",
   "execution_count": null,
   "id": "0f424bc2",
   "metadata": {},
   "outputs": [],
   "source": [
    "vec_queen = wv['queen']\n",
    "print(vec_queen)\n"
   ]
  },
  {
   "cell_type": "code",
   "execution_count": null,
   "id": "f407b14f",
   "metadata": {},
   "outputs": [],
   "source": [
    "analogy = vec_king - vec_male + vec_woman\n",
    "print(analogy)"
   ]
  },
  {
   "cell_type": "markdown",
   "id": "be0dbbbe",
   "metadata": {},
   "source": [
    "Calcular similitud mediante cálculo del coseno"
   ]
  },
  {
   "cell_type": "code",
   "execution_count": null,
   "id": "033bb474",
   "metadata": {},
   "outputs": [],
   "source": [
    "# coseno entre king y queen y king y male usando gensim\n",
    "pairs = [\n",
    "    ('king', 'queen'),\n",
    "    ('king', 'male'),\n",
    "]\n",
    "for w1, w2 in pairs:\n",
    "    print('%r\\t%r\\t%.2f' % (w1, w2, wv.similarity(w1, w2)))"
   ]
  },
  {
   "cell_type": "code",
   "execution_count": null,
   "id": "5fc65199",
   "metadata": {},
   "outputs": [],
   "source": [
    "# coseno entre king y queen usando scipy\n",
    "result = 1 - spatial.distance.cosine(vec_king, vec_queen)\n",
    "print(result)"
   ]
  },
  {
   "cell_type": "code",
   "execution_count": null,
   "id": "ebc78ff3",
   "metadata": {},
   "outputs": [],
   "source": [
    "# coseno entre queen y queen-male+woman usando scipy\n",
    "result = 1 - spatial.distance.cosine(vec_queen, analogy)\n",
    "print(result)"
   ]
  },
  {
   "cell_type": "code",
   "execution_count": null,
   "id": "2907d925",
   "metadata": {},
   "outputs": [],
   "source": [
    "# coseno entre king y queen-male+woman usando scipy\n",
    "result = 1 - spatial.distance.cosine(vec_king, analogy)\n",
    "print(result)"
   ]
  },
  {
   "cell_type": "markdown",
   "id": "97834a35",
   "metadata": {},
   "source": [
    "Se puede calcular las 5 palabras más cercanas."
   ]
  },
  {
   "cell_type": "code",
   "execution_count": null,
   "id": "7cbb00bc",
   "metadata": {},
   "outputs": [],
   "source": [
    "print(wv.most_similar(positive=['car', 'minivan'], topn=5))"
   ]
  },
  {
   "cell_type": "markdown",
   "id": "d0cea614",
   "metadata": {},
   "source": [
    "El modelo no es capaz de inferir un vector para una palabra desconocida"
   ]
  },
  {
   "cell_type": "code",
   "execution_count": null,
   "id": "484a5b30",
   "metadata": {},
   "outputs": [],
   "source": [
    "try:\n",
    "    word = 'cameroon'\n",
    "    vec_cameroon = wv[word]\n",
    "except KeyError:\n",
    "    print(\"The word \"+word+\" does not appear in this model\")"
   ]
  },
  {
   "cell_type": "markdown",
   "id": "2e1c6f5d",
   "metadata": {},
   "source": [
    "Entrenar un modelo propio"
   ]
  },
  {
   "cell_type": "code",
   "execution_count": null,
   "id": "4bd2d589",
   "metadata": {},
   "outputs": [],
   "source": [
    "class MyCorpus:\n",
    "    \"\"\"An iterator that yields sentences (lists of str).\"\"\"\n",
    "\n",
    "    def __iter__(self):\n",
    "        corpus_path = open('corpus/facundo.txt')\n",
    "        for line in corpus_path:\n",
    "            # assume there's one document per line, tokens separated by whitespace\n",
    "            yield utils.simple_preprocess(line)"
   ]
  },
  {
   "cell_type": "code",
   "execution_count": null,
   "id": "d3034066",
   "metadata": {},
   "outputs": [],
   "source": [
    "sentences = MyCorpus()\n",
    "model = gensim.models.Word2Vec(sentences=sentences)"
   ]
  },
  {
   "cell_type": "code",
   "execution_count": null,
   "id": "31dbeef9",
   "metadata": {},
   "outputs": [],
   "source": [
    "vec_Facundo = model.wv['facundo']\n",
    "print(vec_Facundo)"
   ]
  },
  {
   "cell_type": "code",
   "execution_count": null,
   "id": "729c2808",
   "metadata": {},
   "outputs": [],
   "source": [
    "print(model.wv.most_similar(positive=['rosas'], topn=20))"
   ]
  },
  {
   "cell_type": "code",
   "execution_count": null,
   "id": "dcf40ac0",
   "metadata": {},
   "outputs": [],
   "source": []
  }
 ],
 "metadata": {
  "kernelspec": {
   "display_name": "Python 3 (ipykernel)",
   "language": "python",
   "name": "python3"
  },
  "language_info": {
   "codemirror_mode": {
    "name": "ipython",
    "version": 3
   },
   "file_extension": ".py",
   "mimetype": "text/x-python",
   "name": "python",
   "nbconvert_exporter": "python",
   "pygments_lexer": "ipython3",
   "version": "3.8.10"
  }
 },
 "nbformat": 4,
 "nbformat_minor": 5
}
