{
 "cells": [
  {
   "cell_type": "code",
   "execution_count": null,
   "id": "b4034483",
   "metadata": {},
   "outputs": [],
   "source": [
    "# Instalar librerías, en caso de que no las tengan instaladas.\n",
    "!pip install --upgrade pip\n",
    "!pip install -r requirements.txt"
   ]
  },
  {
   "cell_type": "code",
   "execution_count": null,
   "id": "f1a6880e",
   "metadata": {},
   "outputs": [],
   "source": [
    "import fasttext\n",
    "import numpy\n",
    "import gensim\n",
    "import logging\n",
    "import gensim.downloader as api"
   ]
  },
  {
   "cell_type": "code",
   "execution_count": null,
   "id": "05cd7a15",
   "metadata": {},
   "outputs": [],
   "source": [
    "logging.basicConfig(format='%(asctime)s : %(levelname)s : %(message)s', level=logging.INFO)\n",
    "wv = api.load('word2vec-google-news-300')"
   ]
  },
  {
   "cell_type": "code",
   "execution_count": null,
   "id": "93909974",
   "metadata": {},
   "outputs": [],
   "source": [
    "for index, word in enumerate(wv.index_to_key):\n",
    "    if index == 10:\n",
    "        break\n",
    "    print(f\"word #{index}/{len(wv.index_to_key)} is {word}\")"
   ]
  },
  {
   "cell_type": "code",
   "execution_count": null,
   "id": "de2aae41",
   "metadata": {},
   "outputs": [],
   "source": [
    "vec_king = wv['king']\n",
    "print(vec_king)\n"
   ]
  },
  {
   "cell_type": "code",
   "execution_count": null,
   "id": "fae86cc0",
   "metadata": {},
   "outputs": [],
   "source": [
    "vec_male = wv['male']\n",
    "print(vec_male)"
   ]
  },
  {
   "cell_type": "code",
   "execution_count": null,
   "id": "0f424bc2",
   "metadata": {},
   "outputs": [],
   "source": [
    "vec_queen = wv['queen']\n",
    "print(vec_queen)\n"
   ]
  },
  {
   "cell_type": "code",
   "execution_count": null,
   "id": "f407b14f",
   "metadata": {},
   "outputs": [],
   "source": [
    "difference = vec_king - vec_male\n",
    "print(difference)"
   ]
  },
  {
   "cell_type": "code",
   "execution_count": null,
   "id": "eae51e69",
   "metadata": {},
   "outputs": [],
   "source": [
    "pairs = [\n",
    "    ('car', 'minivan'),   # a minivan is a kind of car\n",
    "    ('car', 'bicycle'),   # still a wheeled vehicle\n",
    "    ('car', 'airplane'),  # ok, no wheels, but still a vehicle\n",
    "    ('car', 'cereal'),    # ... and so on\n",
    "    ('car', 'communism'),\n",
    "]\n",
    "for w1, w2 in pairs:\n",
    "    print('%r\\t%r\\t%.2f' % (w1, w2, wv.similarity(w1, w2)))"
   ]
  },
  {
   "cell_type": "code",
   "execution_count": null,
   "id": "033bb474",
   "metadata": {},
   "outputs": [],
   "source": [
    "pairs = [\n",
    "    ('king', 'queen'),   # a minivan is a kind of car\n",
    "    ('king', 'male'),   # still a wheeled vehicle\n",
    "]\n",
    "for w1, w2 in pairs:\n",
    "    print('%r\\t%r\\t%.2f' % (w1, w2, wv.similarity(w1, w2)))"
   ]
  },
  {
   "cell_type": "code",
   "execution_count": null,
   "id": "ebc78ff3",
   "metadata": {},
   "outputs": [],
   "source": []
  },
  {
   "cell_type": "code",
   "execution_count": null,
   "id": "7cbb00bc",
   "metadata": {},
   "outputs": [],
   "source": [
    "print(wv.most_similar(positive=['car', 'minivan'], topn=5))"
   ]
  },
  {
   "cell_type": "markdown",
   "id": "d0cea614",
   "metadata": {},
   "source": [
    "El modelo no es capaz de inferir un vector para una palabra desconocida"
   ]
  },
  {
   "cell_type": "code",
   "execution_count": null,
   "id": "484a5b30",
   "metadata": {},
   "outputs": [],
   "source": [
    "try:\n",
    "    vec_cameroon = wv['cameroon']\n",
    "except KeyError:\n",
    "    print(\"The word 'cameroon' does not appear in this model\")"
   ]
  },
  {
   "cell_type": "markdown",
   "id": "2e1c6f5d",
   "metadata": {},
   "source": [
    "Entrenar un modelo propio"
   ]
  },
  {
   "cell_type": "code",
   "execution_count": null,
   "id": "4bd2d589",
   "metadata": {},
   "outputs": [],
   "source": [
    "from gensim.test.utils import datapath\n",
    "from gensim import utils\n",
    "\n",
    "class MyCorpus:\n",
    "    \"\"\"An iterator that yields sentences (lists of str).\"\"\"\n",
    "\n",
    "    def __iter__(self):\n",
    "        corpus_path = open('corpus/facundo.txt')\n",
    "        for line in corpus_path:\n",
    "            # assume there's one document per line, tokens separated by whitespace\n",
    "            yield utils.simple_preprocess(line)"
   ]
  },
  {
   "cell_type": "code",
   "execution_count": null,
   "id": "d3034066",
   "metadata": {},
   "outputs": [],
   "source": [
    "sentences = MyCorpus()\n",
    "model = gensim.models.Word2Vec(sentences=sentences)"
   ]
  },
  {
   "cell_type": "code",
   "execution_count": null,
   "id": "31dbeef9",
   "metadata": {},
   "outputs": [],
   "source": [
    "vec_Facundo = model.wv['facundo']\n",
    "print(vec_Facundo)"
   ]
  },
  {
   "cell_type": "code",
   "execution_count": null,
   "id": "729c2808",
   "metadata": {},
   "outputs": [],
   "source": [
    "print(model.wv.most_similar(positive=['facundo'], topn=5))"
   ]
  },
  {
   "cell_type": "code",
   "execution_count": null,
   "id": "dcf40ac0",
   "metadata": {},
   "outputs": [],
   "source": [
    "\n",
    "\n",
    "\n",
    "\n",
    "# Train Latent Semantic Indexing with 200D vectors.\n",
    "lsi = models.LsiModel(corpus, num_topics=200)\n",
    "\n",
    "# Convert another corpus to the LSI space and index it.\n",
    "index = similarities.MatrixSimilarity(lsi[another_corpus])\n",
    "\n",
    "# Compute similarity of a query vs indexed documents.\n",
    "sims = index[query]"
   ]
  }
 ],
 "metadata": {
  "kernelspec": {
   "display_name": "Python 3 (ipykernel)",
   "language": "python",
   "name": "python3"
  },
  "language_info": {
   "codemirror_mode": {
    "name": "ipython",
    "version": 3
   },
   "file_extension": ".py",
   "mimetype": "text/x-python",
   "name": "python",
   "nbconvert_exporter": "python",
   "pygments_lexer": "ipython3",
   "version": "3.8.10"
  }
 },
 "nbformat": 4,
 "nbformat_minor": 5
}
