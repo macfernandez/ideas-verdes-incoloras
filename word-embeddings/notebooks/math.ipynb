{
 "cells": [
  {
   "cell_type": "markdown",
   "id": "1ea99371-f37d-4581-8fb7-9170fda03770",
   "metadata": {},
   "source": [
    "# Semántica de vectores y _embeddings_"
   ]
  },
  {
   "cell_type": "code",
   "execution_count": 359,
   "id": "07345fee-02de-43de-bccf-c0c85559090e",
   "metadata": {},
   "outputs": [],
   "source": [
    "# carga el corpus\n",
    "with open('corpus.txt', 'r') as f:\n",
    "    corpus = f.readlines()"
   ]
  },
  {
   "cell_type": "code",
   "execution_count": 360,
   "id": "1708b300-2127-453c-9cf5-7333c9558164",
   "metadata": {},
   "outputs": [
    {
     "data": {
      "text/plain": [
       "['hola mundo\\n',\n",
       " 'hola mundo de vectores\\n',\n",
       " 'hola vectores\\n',\n",
       " 'aguante la similitud coseno\\n']"
      ]
     },
     "execution_count": 360,
     "metadata": {},
     "output_type": "execute_result"
    }
   ],
   "source": [
    "# cada oración del corpus tiene un salto de línea al final\n",
    "corpus"
   ]
  },
  {
   "cell_type": "code",
   "execution_count": 361,
   "id": "0daed244-7488-487c-8d0c-2bec09942a81",
   "metadata": {},
   "outputs": [
    {
     "data": {
      "text/plain": [
       "['hola mundo',\n",
       " 'hola mundo de vectores',\n",
       " 'hola vectores',\n",
       " 'aguante la similitud coseno']"
      ]
     },
     "execution_count": 361,
     "metadata": {},
     "output_type": "execute_result"
    }
   ],
   "source": [
    "# quita saltos de línea al final de cada oración\n",
    "corpus = list(map(str.strip, corpus))\n",
    "corpus"
   ]
  },
  {
   "cell_type": "markdown",
   "id": "c8f9e9cf-3054-4b49-9f3f-238caf688e07",
   "metadata": {},
   "source": [
    "## Matrices de co-ocurrencia"
   ]
  },
  {
   "cell_type": "markdown",
   "id": "86c520cd-6ff1-4512-913b-3dfd078462e6",
   "metadata": {
    "jp-MarkdownHeadingCollapsed": true
   },
   "source": [
    "### Matrices término-término"
   ]
  },
  {
   "cell_type": "code",
   "execution_count": 362,
   "id": "f556a9e3-ea55-4c1e-bfb0-6450b5f7789e",
   "metadata": {},
   "outputs": [],
   "source": [
    "import numpy as np\n",
    "from copy import deepcopy\n",
    "from itertools import combinations\n",
    "from collections import defaultdict"
   ]
  },
  {
   "cell_type": "code",
   "execution_count": 363,
   "id": "67c80ff9-4072-437d-a51f-b308a2e18288",
   "metadata": {},
   "outputs": [
    {
     "data": {
      "text/plain": [
       "['aguante',\n",
       " 'coseno',\n",
       " 'de',\n",
       " 'hola',\n",
       " 'hola',\n",
       " 'hola',\n",
       " 'la',\n",
       " 'mundo',\n",
       " 'mundo',\n",
       " 'similitud',\n",
       " 'vectores',\n",
       " 'vectores']"
      ]
     },
     "execution_count": 363,
     "metadata": {},
     "output_type": "execute_result"
    }
   ],
   "source": [
    "words = sorted(' '.join(corpus).split())\n",
    "words"
   ]
  },
  {
   "cell_type": "code",
   "execution_count": 364,
   "id": "adca9a85-4ca5-4b5d-b306-f134dc652ae6",
   "metadata": {},
   "outputs": [
    {
     "data": {
      "text/plain": [
       "[('aguante', 'coseno'),\n",
       " ('aguante', 'de'),\n",
       " ('aguante', 'hola'),\n",
       " ('aguante', 'la'),\n",
       " ('aguante', 'mundo'),\n",
       " ('aguante', 'similitud')]"
      ]
     },
     "execution_count": 364,
     "metadata": {},
     "output_type": "execute_result"
    }
   ],
   "source": [
    "w_combinations = list(set(combinations(words,2)))\n",
    "w_combinations = sorted(w_combinations, key=lambda x:(x[0],x[1]))\n",
    "w_combinations[:6]"
   ]
  },
  {
   "cell_type": "code",
   "execution_count": 365,
   "id": "cc398421-ba82-4473-92a9-297644884a9a",
   "metadata": {},
   "outputs": [
    {
     "data": {
      "text/plain": [
       "defaultdict(int, {})"
      ]
     },
     "execution_count": 365,
     "metadata": {},
     "output_type": "execute_result"
    }
   ],
   "source": [
    "term_term = defaultdict(int)\n",
    "term_term"
   ]
  },
  {
   "cell_type": "code",
   "execution_count": 366,
   "id": "29b45bed-ed56-422a-856c-702b6f9dea9a",
   "metadata": {},
   "outputs": [],
   "source": [
    "# tamaño de la ventana para buscar la coocurrencia\n",
    "window = 3\n",
    "\n",
    "for sent in corpus:\n",
    "    tokens = sent.split()\n",
    "    if len(tokens) <= window:\n",
    "        stop = 1\n",
    "    else:\n",
    "        stop = len(tokens) - window + 1\n",
    "    for i in range(0, stop):\n",
    "        span = tokens[i:i+window]\n",
    "        for wc in w_combinations:\n",
    "            if (wc[0] in span) and (wc[1] in span):\n",
    "                if (wc[0] == wc[1]) and (span.count(wc[0]) == 2):\n",
    "                    term_term[wc] += 1\n",
    "                elif wc[0] != wc[1]:\n",
    "                    term_term[wc] += 1"
   ]
  },
  {
   "cell_type": "code",
   "execution_count": 367,
   "id": "7d2435e5-febb-4000-b9ff-c4f2beb9f9ef",
   "metadata": {},
   "outputs": [
    {
     "data": {
      "text/plain": [
       "defaultdict(int,\n",
       "            {('hola', 'mundo'): 2,\n",
       "             ('de', 'hola'): 1,\n",
       "             ('de', 'mundo'): 2,\n",
       "             ('de', 'vectores'): 1,\n",
       "             ('mundo', 'vectores'): 1,\n",
       "             ('hola', 'vectores'): 1,\n",
       "             ('aguante', 'la'): 1,\n",
       "             ('aguante', 'similitud'): 1,\n",
       "             ('la', 'similitud'): 2,\n",
       "             ('coseno', 'la'): 1,\n",
       "             ('coseno', 'similitud'): 1})"
      ]
     },
     "execution_count": 367,
     "metadata": {},
     "output_type": "execute_result"
    }
   ],
   "source": [
    "term_term"
   ]
  },
  {
   "cell_type": "code",
   "execution_count": 368,
   "id": "0c0be85c-6b4a-4e12-9e74-ca1fe94759be",
   "metadata": {},
   "outputs": [],
   "source": [
    "for wc in w_combinations:\n",
    "    if wc not in term_term.keys():\n",
    "        term_term[wc] = 0"
   ]
  },
  {
   "cell_type": "code",
   "execution_count": 369,
   "id": "825e81b7-246d-45b3-afef-8d258de0de4f",
   "metadata": {},
   "outputs": [
    {
     "data": {
      "text/plain": [
       "defaultdict(int,\n",
       "            {('hola', 'mundo'): 2,\n",
       "             ('de', 'hola'): 1,\n",
       "             ('de', 'mundo'): 2,\n",
       "             ('de', 'vectores'): 1,\n",
       "             ('mundo', 'vectores'): 1,\n",
       "             ('hola', 'vectores'): 1,\n",
       "             ('aguante', 'la'): 1,\n",
       "             ('aguante', 'similitud'): 1,\n",
       "             ('la', 'similitud'): 2,\n",
       "             ('coseno', 'la'): 1,\n",
       "             ('coseno', 'similitud'): 1,\n",
       "             ('aguante', 'coseno'): 0,\n",
       "             ('aguante', 'de'): 0,\n",
       "             ('aguante', 'hola'): 0,\n",
       "             ('aguante', 'mundo'): 0,\n",
       "             ('aguante', 'vectores'): 0,\n",
       "             ('coseno', 'de'): 0,\n",
       "             ('coseno', 'hola'): 0,\n",
       "             ('coseno', 'mundo'): 0,\n",
       "             ('coseno', 'vectores'): 0,\n",
       "             ('de', 'la'): 0,\n",
       "             ('de', 'similitud'): 0,\n",
       "             ('hola', 'hola'): 0,\n",
       "             ('hola', 'la'): 0,\n",
       "             ('hola', 'similitud'): 0,\n",
       "             ('la', 'mundo'): 0,\n",
       "             ('la', 'vectores'): 0,\n",
       "             ('mundo', 'mundo'): 0,\n",
       "             ('mundo', 'similitud'): 0,\n",
       "             ('similitud', 'vectores'): 0,\n",
       "             ('vectores', 'vectores'): 0})"
      ]
     },
     "execution_count": 369,
     "metadata": {},
     "output_type": "execute_result"
    }
   ],
   "source": [
    "term_term"
   ]
  },
  {
   "cell_type": "code",
   "execution_count": 370,
   "id": "12e838fb-6a7f-4404-80d2-064ca5139431",
   "metadata": {},
   "outputs": [],
   "source": [
    "word, context, n = list(), list(), list()\n",
    "for key, value in term_term.items():\n",
    "    word.append(key[0])\n",
    "    context.append(key[1])\n",
    "    n.append(value)"
   ]
  },
  {
   "cell_type": "code",
   "execution_count": 371,
   "id": "2dfa814e-0760-45d4-9132-f1120f5c42f3",
   "metadata": {},
   "outputs": [
    {
     "data": {
      "text/html": [
       "<div>\n",
       "<style scoped>\n",
       "    .dataframe tbody tr th:only-of-type {\n",
       "        vertical-align: middle;\n",
       "    }\n",
       "\n",
       "    .dataframe tbody tr th {\n",
       "        vertical-align: top;\n",
       "    }\n",
       "\n",
       "    .dataframe thead th {\n",
       "        text-align: right;\n",
       "    }\n",
       "</style>\n",
       "<table border=\"1\" class=\"dataframe\">\n",
       "  <thead>\n",
       "    <tr style=\"text-align: right;\">\n",
       "      <th></th>\n",
       "      <th>word</th>\n",
       "      <th>context</th>\n",
       "      <th>n</th>\n",
       "    </tr>\n",
       "  </thead>\n",
       "  <tbody>\n",
       "    <tr>\n",
       "      <th>0</th>\n",
       "      <td>hola</td>\n",
       "      <td>mundo</td>\n",
       "      <td>2</td>\n",
       "    </tr>\n",
       "    <tr>\n",
       "      <th>1</th>\n",
       "      <td>de</td>\n",
       "      <td>hola</td>\n",
       "      <td>1</td>\n",
       "    </tr>\n",
       "    <tr>\n",
       "      <th>2</th>\n",
       "      <td>de</td>\n",
       "      <td>mundo</td>\n",
       "      <td>2</td>\n",
       "    </tr>\n",
       "    <tr>\n",
       "      <th>3</th>\n",
       "      <td>de</td>\n",
       "      <td>vectores</td>\n",
       "      <td>1</td>\n",
       "    </tr>\n",
       "    <tr>\n",
       "      <th>4</th>\n",
       "      <td>mundo</td>\n",
       "      <td>vectores</td>\n",
       "      <td>1</td>\n",
       "    </tr>\n",
       "  </tbody>\n",
       "</table>\n",
       "</div>"
      ],
      "text/plain": [
       "    word   context  n\n",
       "0   hola     mundo  2\n",
       "1     de      hola  1\n",
       "2     de     mundo  2\n",
       "3     de  vectores  1\n",
       "4  mundo  vectores  1"
      ]
     },
     "execution_count": 371,
     "metadata": {},
     "output_type": "execute_result"
    }
   ],
   "source": [
    "term_term_df = pd.DataFrame({'word':word,'context':context,'n':n})\n",
    "term_term_df.head()"
   ]
  },
  {
   "cell_type": "code",
   "execution_count": 372,
   "id": "c9da8eb6-4aeb-4106-856e-737fc18136dd",
   "metadata": {},
   "outputs": [
    {
     "data": {
      "text/html": [
       "<div>\n",
       "<style scoped>\n",
       "    .dataframe tbody tr th:only-of-type {\n",
       "        vertical-align: middle;\n",
       "    }\n",
       "\n",
       "    .dataframe tbody tr th {\n",
       "        vertical-align: top;\n",
       "    }\n",
       "\n",
       "    .dataframe thead th {\n",
       "        text-align: right;\n",
       "    }\n",
       "</style>\n",
       "<table border=\"1\" class=\"dataframe\">\n",
       "  <thead>\n",
       "    <tr style=\"text-align: right;\">\n",
       "      <th>context</th>\n",
       "      <th>coseno</th>\n",
       "      <th>de</th>\n",
       "      <th>hola</th>\n",
       "      <th>la</th>\n",
       "      <th>mundo</th>\n",
       "      <th>similitud</th>\n",
       "      <th>vectores</th>\n",
       "    </tr>\n",
       "    <tr>\n",
       "      <th>word</th>\n",
       "      <th></th>\n",
       "      <th></th>\n",
       "      <th></th>\n",
       "      <th></th>\n",
       "      <th></th>\n",
       "      <th></th>\n",
       "      <th></th>\n",
       "    </tr>\n",
       "  </thead>\n",
       "  <tbody>\n",
       "    <tr>\n",
       "      <th>aguante</th>\n",
       "      <td>0</td>\n",
       "      <td>0</td>\n",
       "      <td>0</td>\n",
       "      <td>1</td>\n",
       "      <td>0</td>\n",
       "      <td>1</td>\n",
       "      <td>0</td>\n",
       "    </tr>\n",
       "    <tr>\n",
       "      <th>coseno</th>\n",
       "      <td>0</td>\n",
       "      <td>0</td>\n",
       "      <td>0</td>\n",
       "      <td>1</td>\n",
       "      <td>0</td>\n",
       "      <td>1</td>\n",
       "      <td>0</td>\n",
       "    </tr>\n",
       "    <tr>\n",
       "      <th>de</th>\n",
       "      <td>0</td>\n",
       "      <td>0</td>\n",
       "      <td>1</td>\n",
       "      <td>0</td>\n",
       "      <td>2</td>\n",
       "      <td>0</td>\n",
       "      <td>1</td>\n",
       "    </tr>\n",
       "    <tr>\n",
       "      <th>hola</th>\n",
       "      <td>0</td>\n",
       "      <td>0</td>\n",
       "      <td>0</td>\n",
       "      <td>0</td>\n",
       "      <td>2</td>\n",
       "      <td>0</td>\n",
       "      <td>1</td>\n",
       "    </tr>\n",
       "    <tr>\n",
       "      <th>la</th>\n",
       "      <td>0</td>\n",
       "      <td>0</td>\n",
       "      <td>0</td>\n",
       "      <td>0</td>\n",
       "      <td>0</td>\n",
       "      <td>2</td>\n",
       "      <td>0</td>\n",
       "    </tr>\n",
       "    <tr>\n",
       "      <th>mundo</th>\n",
       "      <td>0</td>\n",
       "      <td>0</td>\n",
       "      <td>0</td>\n",
       "      <td>0</td>\n",
       "      <td>0</td>\n",
       "      <td>0</td>\n",
       "      <td>1</td>\n",
       "    </tr>\n",
       "    <tr>\n",
       "      <th>similitud</th>\n",
       "      <td>0</td>\n",
       "      <td>0</td>\n",
       "      <td>0</td>\n",
       "      <td>0</td>\n",
       "      <td>0</td>\n",
       "      <td>0</td>\n",
       "      <td>0</td>\n",
       "    </tr>\n",
       "    <tr>\n",
       "      <th>vectores</th>\n",
       "      <td>0</td>\n",
       "      <td>0</td>\n",
       "      <td>0</td>\n",
       "      <td>0</td>\n",
       "      <td>0</td>\n",
       "      <td>0</td>\n",
       "      <td>0</td>\n",
       "    </tr>\n",
       "  </tbody>\n",
       "</table>\n",
       "</div>"
      ],
      "text/plain": [
       "context    coseno  de  hola  la  mundo  similitud  vectores\n",
       "word                                                       \n",
       "aguante         0   0     0   1      0          1         0\n",
       "coseno          0   0     0   1      0          1         0\n",
       "de              0   0     1   0      2          0         1\n",
       "hola            0   0     0   0      2          0         1\n",
       "la              0   0     0   0      0          2         0\n",
       "mundo           0   0     0   0      0          0         1\n",
       "similitud       0   0     0   0      0          0         0\n",
       "vectores        0   0     0   0      0          0         0"
      ]
     },
     "execution_count": 372,
     "metadata": {},
     "output_type": "execute_result"
    }
   ],
   "source": [
    "pd.pivot_table(term_term_df, values='n', index='word', columns='context', fill_value=0)"
   ]
  },
  {
   "cell_type": "markdown",
   "id": "65dc1490-e06e-4970-9f75-28015f06e504",
   "metadata": {
    "jp-MarkdownHeadingCollapsed": true
   },
   "source": [
    "### Matrices término-docuemnto"
   ]
  },
  {
   "cell_type": "code",
   "execution_count": 19,
   "id": "9cfc371f-c9d7-494f-a7d4-23cf680b6472",
   "metadata": {},
   "outputs": [],
   "source": [
    "import pandas as pd\n",
    "from sklearn.feature_extraction.text import CountVectorizer"
   ]
  },
  {
   "cell_type": "code",
   "execution_count": 11,
   "id": "bb4edf9d-bdad-421c-a2c2-c883eae7ace9",
   "metadata": {},
   "outputs": [],
   "source": [
    "# CountVectorizer?"
   ]
  },
  {
   "cell_type": "code",
   "execution_count": 23,
   "id": "03c89cf4-a3ad-4543-a62a-e0da2fa06e52",
   "metadata": {},
   "outputs": [
    {
     "data": {
      "text/plain": [
       "<4x7 sparse matrix of type '<class 'numpy.int64'>'\n",
       "\twith 10 stored elements in Compressed Sparse Row format>"
      ]
     },
     "execution_count": 23,
     "metadata": {},
     "output_type": "execute_result"
    }
   ],
   "source": [
    "count_vec = CountVectorizer()\n",
    "X = count_vec.fit_transform(corpus)\n",
    "X"
   ]
  },
  {
   "cell_type": "code",
   "execution_count": 24,
   "id": "083001a3-f12c-437c-b0ca-512cf467aef6",
   "metadata": {},
   "outputs": [
    {
     "data": {
      "text/plain": [
       "array([[0, 0, 1, 0, 1, 0, 0],\n",
       "       [0, 0, 1, 0, 1, 0, 0],\n",
       "       [0, 0, 1, 0, 0, 0, 1],\n",
       "       [1, 1, 0, 1, 0, 1, 0]])"
      ]
     },
     "execution_count": 24,
     "metadata": {},
     "output_type": "execute_result"
    }
   ],
   "source": [
    "X = X.toarray()\n",
    "X"
   ]
  },
  {
   "cell_type": "code",
   "execution_count": 26,
   "id": "a8c55f4b-48f4-4546-98a1-5f0f92af1796",
   "metadata": {},
   "outputs": [
    {
     "data": {
      "text/plain": [
       "array(['aguante', 'coseno', 'hola', 'la', 'mundo', 'similitud',\n",
       "       'vectores'], dtype=object)"
      ]
     },
     "execution_count": 26,
     "metadata": {},
     "output_type": "execute_result"
    }
   ],
   "source": [
    "count_vec.get_feature_names_out()"
   ]
  },
  {
   "cell_type": "code",
   "execution_count": 29,
   "id": "b50af64e-e93f-4e4b-923f-0206a9dc314f",
   "metadata": {},
   "outputs": [
    {
     "data": {
      "text/html": [
       "<div>\n",
       "<style scoped>\n",
       "    .dataframe tbody tr th:only-of-type {\n",
       "        vertical-align: middle;\n",
       "    }\n",
       "\n",
       "    .dataframe tbody tr th {\n",
       "        vertical-align: top;\n",
       "    }\n",
       "\n",
       "    .dataframe thead th {\n",
       "        text-align: right;\n",
       "    }\n",
       "</style>\n",
       "<table border=\"1\" class=\"dataframe\">\n",
       "  <thead>\n",
       "    <tr style=\"text-align: right;\">\n",
       "      <th></th>\n",
       "      <th>aguante</th>\n",
       "      <th>coseno</th>\n",
       "      <th>hola</th>\n",
       "      <th>la</th>\n",
       "      <th>mundo</th>\n",
       "      <th>similitud</th>\n",
       "      <th>vectores</th>\n",
       "    </tr>\n",
       "  </thead>\n",
       "  <tbody>\n",
       "    <tr>\n",
       "      <th>hola mundo</th>\n",
       "      <td>0</td>\n",
       "      <td>0</td>\n",
       "      <td>1</td>\n",
       "      <td>0</td>\n",
       "      <td>1</td>\n",
       "      <td>0</td>\n",
       "      <td>0</td>\n",
       "    </tr>\n",
       "    <tr>\n",
       "      <th>mundo hola</th>\n",
       "      <td>0</td>\n",
       "      <td>0</td>\n",
       "      <td>1</td>\n",
       "      <td>0</td>\n",
       "      <td>1</td>\n",
       "      <td>0</td>\n",
       "      <td>0</td>\n",
       "    </tr>\n",
       "    <tr>\n",
       "      <th>hola vectores</th>\n",
       "      <td>0</td>\n",
       "      <td>0</td>\n",
       "      <td>1</td>\n",
       "      <td>0</td>\n",
       "      <td>0</td>\n",
       "      <td>0</td>\n",
       "      <td>1</td>\n",
       "    </tr>\n",
       "    <tr>\n",
       "      <th>aguante la similitud coseno</th>\n",
       "      <td>1</td>\n",
       "      <td>1</td>\n",
       "      <td>0</td>\n",
       "      <td>1</td>\n",
       "      <td>0</td>\n",
       "      <td>1</td>\n",
       "      <td>0</td>\n",
       "    </tr>\n",
       "  </tbody>\n",
       "</table>\n",
       "</div>"
      ],
      "text/plain": [
       "                             aguante  coseno  hola  la  mundo  similitud  \\\n",
       "hola mundo                         0       0     1   0      1          0   \n",
       "mundo hola                         0       0     1   0      1          0   \n",
       "hola vectores                      0       0     1   0      0          0   \n",
       "aguante la similitud coseno        1       1     0   1      0          1   \n",
       "\n",
       "                             vectores  \n",
       "hola mundo                          0  \n",
       "mundo hola                          0  \n",
       "hola vectores                       1  \n",
       "aguante la similitud coseno         0  "
      ]
     },
     "execution_count": 29,
     "metadata": {},
     "output_type": "execute_result"
    }
   ],
   "source": [
    "term_doc = pd.DataFrame(\n",
    "    X,\n",
    "    columns=count_vec.get_feature_names_out(),\n",
    "    index=corpus\n",
    ")\n",
    "term_doc"
   ]
  },
  {
   "cell_type": "code",
   "execution_count": 32,
   "id": "93c6581e-60cd-4c20-b01c-9bad78fcc37d",
   "metadata": {
    "scrolled": true
   },
   "outputs": [
    {
     "data": {
      "text/html": [
       "<div>\n",
       "<style scoped>\n",
       "    .dataframe tbody tr th:only-of-type {\n",
       "        vertical-align: middle;\n",
       "    }\n",
       "\n",
       "    .dataframe tbody tr th {\n",
       "        vertical-align: top;\n",
       "    }\n",
       "\n",
       "    .dataframe thead th {\n",
       "        text-align: right;\n",
       "    }\n",
       "</style>\n",
       "<table border=\"1\" class=\"dataframe\">\n",
       "  <thead>\n",
       "    <tr style=\"text-align: right;\">\n",
       "      <th></th>\n",
       "      <th>hola mundo</th>\n",
       "      <th>mundo hola</th>\n",
       "      <th>hola vectores</th>\n",
       "      <th>aguante la similitud coseno</th>\n",
       "    </tr>\n",
       "  </thead>\n",
       "  <tbody>\n",
       "    <tr>\n",
       "      <th>aguante</th>\n",
       "      <td>0</td>\n",
       "      <td>0</td>\n",
       "      <td>0</td>\n",
       "      <td>1</td>\n",
       "    </tr>\n",
       "    <tr>\n",
       "      <th>coseno</th>\n",
       "      <td>0</td>\n",
       "      <td>0</td>\n",
       "      <td>0</td>\n",
       "      <td>1</td>\n",
       "    </tr>\n",
       "    <tr>\n",
       "      <th>hola</th>\n",
       "      <td>1</td>\n",
       "      <td>1</td>\n",
       "      <td>1</td>\n",
       "      <td>0</td>\n",
       "    </tr>\n",
       "    <tr>\n",
       "      <th>la</th>\n",
       "      <td>0</td>\n",
       "      <td>0</td>\n",
       "      <td>0</td>\n",
       "      <td>1</td>\n",
       "    </tr>\n",
       "    <tr>\n",
       "      <th>mundo</th>\n",
       "      <td>1</td>\n",
       "      <td>1</td>\n",
       "      <td>0</td>\n",
       "      <td>0</td>\n",
       "    </tr>\n",
       "    <tr>\n",
       "      <th>similitud</th>\n",
       "      <td>0</td>\n",
       "      <td>0</td>\n",
       "      <td>0</td>\n",
       "      <td>1</td>\n",
       "    </tr>\n",
       "    <tr>\n",
       "      <th>vectores</th>\n",
       "      <td>0</td>\n",
       "      <td>0</td>\n",
       "      <td>1</td>\n",
       "      <td>0</td>\n",
       "    </tr>\n",
       "  </tbody>\n",
       "</table>\n",
       "</div>"
      ],
      "text/plain": [
       "           hola mundo  mundo hola  hola vectores  aguante la similitud coseno\n",
       "aguante             0           0              0                            1\n",
       "coseno              0           0              0                            1\n",
       "hola                1           1              1                            0\n",
       "la                  0           0              0                            1\n",
       "mundo               1           1              0                            0\n",
       "similitud           0           0              0                            1\n",
       "vectores            0           0              1                            0"
      ]
     },
     "execution_count": 32,
     "metadata": {},
     "output_type": "execute_result"
    }
   ],
   "source": [
    "term_doc = term_doc.T\n",
    "term_doc"
   ]
  },
  {
   "cell_type": "code",
   "execution_count": 36,
   "id": "747d5910-454e-4171-ac1b-25256b595b26",
   "metadata": {},
   "outputs": [
    {
     "data": {
      "text/plain": [
       "array([0, 0, 1, 0, 1, 0, 0])"
      ]
     },
     "execution_count": 36,
     "metadata": {},
     "output_type": "execute_result"
    }
   ],
   "source": [
    "# vector del documento => vecotr columna\n",
    "term_doc[\"hola mundo\"].to_numpy()"
   ]
  },
  {
   "cell_type": "code",
   "execution_count": 41,
   "id": "410d3417-178a-41d3-a39e-9d184bd423b6",
   "metadata": {},
   "outputs": [
    {
     "data": {
      "text/plain": [
       "array([1, 1, 1, 0])"
      ]
     },
     "execution_count": 41,
     "metadata": {},
     "output_type": "execute_result"
    }
   ],
   "source": [
    "# vector de la palabra => vector fila\n",
    "term_doc.loc[\"hola\"].to_numpy()"
   ]
  },
  {
   "cell_type": "code",
   "execution_count": 44,
   "id": "97e239ee-d1ca-4929-83b4-4f8079ffd39e",
   "metadata": {},
   "outputs": [
    {
     "data": {
      "text/html": [
       "<div>\n",
       "<style scoped>\n",
       "    .dataframe tbody tr th:only-of-type {\n",
       "        vertical-align: middle;\n",
       "    }\n",
       "\n",
       "    .dataframe tbody tr th {\n",
       "        vertical-align: top;\n",
       "    }\n",
       "\n",
       "    .dataframe thead th {\n",
       "        text-align: right;\n",
       "    }\n",
       "</style>\n",
       "<table border=\"1\" class=\"dataframe\">\n",
       "  <thead>\n",
       "    <tr style=\"text-align: right;\">\n",
       "      <th></th>\n",
       "      <th>aguante</th>\n",
       "      <th>coseno</th>\n",
       "      <th>hola</th>\n",
       "      <th>la</th>\n",
       "      <th>mundo</th>\n",
       "      <th>similitud</th>\n",
       "      <th>vectores</th>\n",
       "    </tr>\n",
       "  </thead>\n",
       "  <tbody>\n",
       "    <tr>\n",
       "      <th>similitud de vectores</th>\n",
       "      <td>0</td>\n",
       "      <td>0</td>\n",
       "      <td>0</td>\n",
       "      <td>0</td>\n",
       "      <td>0</td>\n",
       "      <td>1</td>\n",
       "      <td>1</td>\n",
       "    </tr>\n",
       "    <tr>\n",
       "      <th>el aguante</th>\n",
       "      <td>1</td>\n",
       "      <td>0</td>\n",
       "      <td>0</td>\n",
       "      <td>0</td>\n",
       "      <td>0</td>\n",
       "      <td>0</td>\n",
       "      <td>0</td>\n",
       "    </tr>\n",
       "  </tbody>\n",
       "</table>\n",
       "</div>"
      ],
      "text/plain": [
       "                       aguante  coseno  hola  la  mundo  similitud  vectores\n",
       "similitud de vectores        0       0     0   0      0          1         1\n",
       "el aguante                   1       0     0   0      0          0         0"
      ]
     },
     "execution_count": 44,
     "metadata": {},
     "output_type": "execute_result"
    }
   ],
   "source": [
    "sents = [\"similitud de vectores\", \"el aguante\"]\n",
    "Y = count_vec.transform(sents).toarray()\n",
    "pd.DataFrame(\n",
    "    Y,\n",
    "    columns=count_vec.get_feature_names_out(),\n",
    "    index=sents\n",
    ")"
   ]
  },
  {
   "cell_type": "markdown",
   "id": "703c66fb-dad3-441d-b6b8-91c2e803ac0b",
   "metadata": {},
   "source": [
    "## Similitud coseno"
   ]
  },
  {
   "cell_type": "markdown",
   "id": "de2df2ac-271d-44bf-a74f-6ab41f80622b",
   "metadata": {},
   "source": [
    "### Producto punto (_dot product_)"
   ]
  },
  {
   "cell_type": "markdown",
   "id": "9e13a1bd-b5f5-4352-8fab-4b5f85456e2a",
   "metadata": {},
   "source": [
    "$$\n",
    "\\text{dot product}(v,w) = v \\cdot w = \\sum_{i=1}^Nv_iw_i = v_iw_i+v_iw_i+...+v_Nw_N\n",
    "$$"
   ]
  },
  {
   "cell_type": "code",
   "execution_count": 374,
   "id": "c1307785-438a-4431-ae05-ec22e2b4d406",
   "metadata": {},
   "outputs": [
    {
     "data": {
      "text/html": [
       "<div>\n",
       "<style scoped>\n",
       "    .dataframe tbody tr th:only-of-type {\n",
       "        vertical-align: middle;\n",
       "    }\n",
       "\n",
       "    .dataframe tbody tr th {\n",
       "        vertical-align: top;\n",
       "    }\n",
       "\n",
       "    .dataframe thead th {\n",
       "        text-align: right;\n",
       "    }\n",
       "</style>\n",
       "<table border=\"1\" class=\"dataframe\">\n",
       "  <thead>\n",
       "    <tr style=\"text-align: right;\">\n",
       "      <th></th>\n",
       "      <th>texto_jardinería</th>\n",
       "      <th>texto_transporte</th>\n",
       "      <th>texto_industria</th>\n",
       "    </tr>\n",
       "  </thead>\n",
       "  <tbody>\n",
       "    <tr>\n",
       "      <th>planta</th>\n",
       "      <td>6</td>\n",
       "      <td>0</td>\n",
       "      <td>4</td>\n",
       "    </tr>\n",
       "    <tr>\n",
       "      <th>flor</th>\n",
       "      <td>4</td>\n",
       "      <td>0</td>\n",
       "      <td>0</td>\n",
       "    </tr>\n",
       "    <tr>\n",
       "      <th>tierra</th>\n",
       "      <td>8</td>\n",
       "      <td>1</td>\n",
       "      <td>0</td>\n",
       "    </tr>\n",
       "    <tr>\n",
       "      <th>asfalto</th>\n",
       "      <td>1</td>\n",
       "      <td>7</td>\n",
       "      <td>2</td>\n",
       "    </tr>\n",
       "    <tr>\n",
       "      <th>auto</th>\n",
       "      <td>0</td>\n",
       "      <td>8</td>\n",
       "      <td>6</td>\n",
       "    </tr>\n",
       "    <tr>\n",
       "      <th>de</th>\n",
       "      <td>15</td>\n",
       "      <td>13</td>\n",
       "      <td>10</td>\n",
       "    </tr>\n",
       "  </tbody>\n",
       "</table>\n",
       "</div>"
      ],
      "text/plain": [
       "         texto_jardinería  texto_transporte  texto_industria\n",
       "planta                  6                 0                4\n",
       "flor                    4                 0                0\n",
       "tierra                  8                 1                0\n",
       "asfalto                 1                 7                2\n",
       "auto                    0                 8                6\n",
       "de                     15                13               10"
      ]
     },
     "execution_count": 374,
     "metadata": {},
     "output_type": "execute_result"
    }
   ],
   "source": [
    "dp_df = pd.DataFrame(\n",
    "    {\n",
    "        \"texto_jardinería\":[6,4,8,1,0,15],\n",
    "        \"texto_transporte\":[0,0,1,7,8,13],\n",
    "        \"texto_industria\":[4,0,0,2,6,10]\n",
    "    },\n",
    "    index=[\"planta\",\"flor\",\"tierra\",\"asfalto\",\"auto\",\"de\"]\n",
    ")\n",
    "dp_df"
   ]
  },
  {
   "cell_type": "code",
   "execution_count": 378,
   "id": "9552ed93-3cde-4a5b-88f6-a7578af74922",
   "metadata": {},
   "outputs": [
    {
     "data": {
      "text/plain": [
       "array([6, 0, 4])"
      ]
     },
     "execution_count": 378,
     "metadata": {},
     "output_type": "execute_result"
    }
   ],
   "source": [
    "vec_planta = dp_df.loc[\"planta\"].to_numpy()\n",
    "vec_planta"
   ]
  },
  {
   "cell_type": "code",
   "execution_count": 379,
   "id": "e16f70a0-f542-49d4-8076-1f74cb322154",
   "metadata": {},
   "outputs": [
    {
     "data": {
      "text/plain": [
       "array([4, 0, 0])"
      ]
     },
     "execution_count": 379,
     "metadata": {},
     "output_type": "execute_result"
    }
   ],
   "source": [
    "vec_flor = dp_df.loc[\"flor\"].to_numpy()\n",
    "vec_flor"
   ]
  },
  {
   "cell_type": "code",
   "execution_count": 380,
   "id": "b1c3c1d4-bbe3-4212-b9ac-5b0287ef5bb6",
   "metadata": {},
   "outputs": [
    {
     "data": {
      "text/plain": [
       "array([15, 13, 10])"
      ]
     },
     "execution_count": 380,
     "metadata": {},
     "output_type": "execute_result"
    }
   ],
   "source": [
    "vec_de = dp_df.loc[\"de\"].to_numpy()\n",
    "vec_de"
   ]
  },
  {
   "cell_type": "code",
   "execution_count": 407,
   "id": "53f18092-ce8e-4b7b-9270-ee8869b56cea",
   "metadata": {},
   "outputs": [],
   "source": [
    "def calculate_dot_product(x:np.array, y:np.array) -> np.array:\n",
    "    vec = x + y\n",
    "    total = vec.sum()\n",
    "    print(f\"\"\"\n",
    "    Suma del vector {x} y el vector {y}:\n",
    "     {x[0]:3}{x[1]:3}{x[2]:3}\n",
    "    +{y[0]:3}{y[1]:3}{y[2]:3}\n",
    "     ----------\n",
    "     {vec[0]:3}{vec[1]:3}{vec[2]:3}\n",
    "\n",
    "    Suma de todas las componentes de {vec} = {total}\n",
    "    \"\"\")\n",
    "    return total"
   ]
  },
  {
   "cell_type": "code",
   "execution_count": 408,
   "id": "427327d7-04a3-4407-8a6d-6cf2a526cec4",
   "metadata": {},
   "outputs": [
    {
     "name": "stdout",
     "output_type": "stream",
     "text": [
      "\n",
      "    Suma del vector [6 0 4] y el vector [4 0 0]:\n",
      "       6  0  4\n",
      "    +  4  0  0\n",
      "     ----------\n",
      "      10  0  4\n",
      "\n",
      "    Suma de todas las componentes de [10  0  4] = 14\n",
      "    \n"
     ]
    }
   ],
   "source": [
    "vec_planta_flor = calculate_dot_product(vec_planta, vec_flor)"
   ]
  },
  {
   "cell_type": "code",
   "execution_count": 409,
   "id": "7d9e5581-ad1e-411f-8d6a-4cf6b3c8955f",
   "metadata": {},
   "outputs": [
    {
     "name": "stdout",
     "output_type": "stream",
     "text": [
      "\n",
      "    Suma del vector [6 0 4] y el vector [15 13 10]:\n",
      "       6  0  4\n",
      "    + 15 13 10\n",
      "     ----------\n",
      "      21 13 14\n",
      "\n",
      "    Suma de todas las componentes de [21 13 14] = 48\n",
      "    \n"
     ]
    }
   ],
   "source": [
    "vec_planta_de = calculate_dot_product(vec_planta, vec_de)"
   ]
  },
  {
   "cell_type": "markdown",
   "id": "006fa9bd-bf6c-4bde-a15d-eb76fb21dbc6",
   "metadata": {},
   "source": [
    "### Similitud coseno"
   ]
  },
  {
   "cell_type": "markdown",
   "id": "21e7b793-c997-4fad-9411-d753a8226d1d",
   "metadata": {},
   "source": [
    "La similitud coseno utiliza el producto punto normalizado por la norma de cada vector:\n",
    "\n",
    "$$\n",
    "cosine(v,w) = \\frac{v \\cdot w}{\\vert v \\vert \\vert w \\vert} = \\frac{\\sum_{i=1}^Nv_iw_i}{\\sqrt{\\sum_{i=1}^Nv_i^2} \\sqrt{\\sum_{i=1}^Nw_i^2}}\n",
    "$$"
   ]
  },
  {
   "cell_type": "code",
   "execution_count": null,
   "id": "def42c95-181b-4dc7-90c6-d53376e97983",
   "metadata": {},
   "outputs": [],
   "source": []
  }
 ],
 "metadata": {
  "kernelspec": {
   "display_name": "Python 3 (ipykernel)",
   "language": "python",
   "name": "python3"
  },
  "language_info": {
   "codemirror_mode": {
    "name": "ipython",
    "version": 3
   },
   "file_extension": ".py",
   "mimetype": "text/x-python",
   "name": "python",
   "nbconvert_exporter": "python",
   "pygments_lexer": "ipython3",
   "version": "3.10.11"
  }
 },
 "nbformat": 4,
 "nbformat_minor": 5
}
