{
 "cells": [
  {
   "cell_type": "markdown",
   "id": "1ea99371-f37d-4581-8fb7-9170fda03770",
   "metadata": {},
   "source": [
    "# Semántica de vectores y _embeddings_"
   ]
  },
  {
   "cell_type": "code",
   "execution_count": null,
   "id": "07345fee-02de-43de-bccf-c0c85559090e",
   "metadata": {},
   "outputs": [],
   "source": [
    "# carga el corpus\n",
    "with open('corpus.txt', 'r') as f:\n",
    "    corpus = f.readlines()"
   ]
  },
  {
   "cell_type": "code",
   "execution_count": null,
   "id": "1708b300-2127-453c-9cf5-7333c9558164",
   "metadata": {},
   "outputs": [],
   "source": [
    "# cada oración del corpus tiene un salto de línea al final\n",
    "corpus"
   ]
  },
  {
   "cell_type": "code",
   "execution_count": null,
   "id": "0daed244-7488-487c-8d0c-2bec09942a81",
   "metadata": {},
   "outputs": [],
   "source": [
    "# quita saltos de línea al final de cada oración\n",
    "corpus = list(map(str.strip, corpus))\n",
    "corpus"
   ]
  },
  {
   "cell_type": "markdown",
   "id": "c8f9e9cf-3054-4b49-9f3f-238caf688e07",
   "metadata": {
    "jp-MarkdownHeadingCollapsed": true
   },
   "source": [
    "## Matrices de co-ocurrencia"
   ]
  },
  {
   "cell_type": "markdown",
   "id": "86c520cd-6ff1-4512-913b-3dfd078462e6",
   "metadata": {
    "jp-MarkdownHeadingCollapsed": true
   },
   "source": [
    "### Matrices término-término"
   ]
  },
  {
   "cell_type": "code",
   "execution_count": null,
   "id": "f556a9e3-ea55-4c1e-bfb0-6450b5f7789e",
   "metadata": {},
   "outputs": [],
   "source": [
    "import numpy as np\n",
    "import pandas as pd\n",
    "from copy import deepcopy\n",
    "from itertools import combinations\n",
    "from collections import defaultdict"
   ]
  },
  {
   "cell_type": "code",
   "execution_count": null,
   "id": "67c80ff9-4072-437d-a51f-b308a2e18288",
   "metadata": {},
   "outputs": [],
   "source": [
    "words = sorted(' '.join(corpus).split())\n",
    "words"
   ]
  },
  {
   "cell_type": "code",
   "execution_count": null,
   "id": "adca9a85-4ca5-4b5d-b306-f134dc652ae6",
   "metadata": {},
   "outputs": [],
   "source": [
    "w_combinations = list(set(combinations(words,2)))\n",
    "w_combinations = sorted(w_combinations, key=lambda x:(x[0],x[1]))\n",
    "w_combinations[:6]"
   ]
  },
  {
   "cell_type": "code",
   "execution_count": null,
   "id": "cc398421-ba82-4473-92a9-297644884a9a",
   "metadata": {},
   "outputs": [],
   "source": [
    "term_term = defaultdict(int)\n",
    "term_term"
   ]
  },
  {
   "cell_type": "code",
   "execution_count": null,
   "id": "29b45bed-ed56-422a-856c-702b6f9dea9a",
   "metadata": {},
   "outputs": [],
   "source": [
    "# tamaño de la ventana para buscar la coocurrencia\n",
    "window = 3\n",
    "\n",
    "for sent in corpus:\n",
    "    tokens = sent.split()\n",
    "    if len(tokens) <= window:\n",
    "        stop = 1\n",
    "    else:\n",
    "        stop = len(tokens) - window + 1\n",
    "    for i in range(0, stop):\n",
    "        span = tokens[i:i+window]\n",
    "        for wc in w_combinations:\n",
    "            if (wc[0] in span) and (wc[1] in span):\n",
    "                if (wc[0] == wc[1]) and (span.count(wc[0]) == 2):\n",
    "                    term_term[wc] += 1\n",
    "                elif wc[0] != wc[1]:\n",
    "                    term_term[wc] += 1"
   ]
  },
  {
   "cell_type": "code",
   "execution_count": null,
   "id": "7d2435e5-febb-4000-b9ff-c4f2beb9f9ef",
   "metadata": {},
   "outputs": [],
   "source": [
    "term_term"
   ]
  },
  {
   "cell_type": "code",
   "execution_count": null,
   "id": "0c0be85c-6b4a-4e12-9e74-ca1fe94759be",
   "metadata": {},
   "outputs": [],
   "source": [
    "for wc in w_combinations:\n",
    "    if wc not in term_term.keys():\n",
    "        term_term[wc] = 0"
   ]
  },
  {
   "cell_type": "code",
   "execution_count": null,
   "id": "825e81b7-246d-45b3-afef-8d258de0de4f",
   "metadata": {},
   "outputs": [],
   "source": [
    "term_term"
   ]
  },
  {
   "cell_type": "code",
   "execution_count": null,
   "id": "12e838fb-6a7f-4404-80d2-064ca5139431",
   "metadata": {},
   "outputs": [],
   "source": [
    "word, context, n = list(), list(), list()\n",
    "for key, value in term_term.items():\n",
    "    word.append(key[0])\n",
    "    context.append(key[1])\n",
    "    n.append(value)"
   ]
  },
  {
   "cell_type": "code",
   "execution_count": null,
   "id": "2dfa814e-0760-45d4-9132-f1120f5c42f3",
   "metadata": {},
   "outputs": [],
   "source": [
    "term_term_df = pd.DataFrame({'word':word,'context':context,'n':n})\n",
    "term_term_df.head()"
   ]
  },
  {
   "cell_type": "code",
   "execution_count": null,
   "id": "c9da8eb6-4aeb-4106-856e-737fc18136dd",
   "metadata": {},
   "outputs": [],
   "source": [
    "pd.pivot_table(term_term_df, values='n', index='word', columns='context', fill_value=0)"
   ]
  },
  {
   "cell_type": "markdown",
   "id": "65dc1490-e06e-4970-9f75-28015f06e504",
   "metadata": {},
   "source": [
    "### Matrices término-docuemnto"
   ]
  },
  {
   "cell_type": "code",
   "execution_count": null,
   "id": "9cfc371f-c9d7-494f-a7d4-23cf680b6472",
   "metadata": {},
   "outputs": [],
   "source": [
    "import pandas as pd\n",
    "from sklearn.feature_extraction.text import CountVectorizer"
   ]
  },
  {
   "cell_type": "code",
   "execution_count": null,
   "id": "bb4edf9d-bdad-421c-a2c2-c883eae7ace9",
   "metadata": {},
   "outputs": [],
   "source": [
    "# CountVectorizer?"
   ]
  },
  {
   "cell_type": "code",
   "execution_count": null,
   "id": "03c89cf4-a3ad-4543-a62a-e0da2fa06e52",
   "metadata": {},
   "outputs": [],
   "source": [
    "count_vec = CountVectorizer()\n",
    "X = count_vec.fit_transform(corpus)\n",
    "X"
   ]
  },
  {
   "cell_type": "code",
   "execution_count": null,
   "id": "083001a3-f12c-437c-b0ca-512cf467aef6",
   "metadata": {},
   "outputs": [],
   "source": [
    "X = X.toarray()\n",
    "X"
   ]
  },
  {
   "cell_type": "code",
   "execution_count": null,
   "id": "a8c55f4b-48f4-4546-98a1-5f0f92af1796",
   "metadata": {},
   "outputs": [],
   "source": [
    "count_vec.get_feature_names_out()"
   ]
  },
  {
   "cell_type": "code",
   "execution_count": null,
   "id": "b50af64e-e93f-4e4b-923f-0206a9dc314f",
   "metadata": {},
   "outputs": [],
   "source": [
    "term_doc = pd.DataFrame(\n",
    "    X,\n",
    "    columns=count_vec.get_feature_names_out(),\n",
    "    index=corpus\n",
    ")\n",
    "term_doc"
   ]
  },
  {
   "cell_type": "code",
   "execution_count": null,
   "id": "93c6581e-60cd-4c20-b01c-9bad78fcc37d",
   "metadata": {},
   "outputs": [],
   "source": [
    "term_doc = term_doc.T\n",
    "term_doc"
   ]
  },
  {
   "cell_type": "code",
   "execution_count": null,
   "id": "747d5910-454e-4171-ac1b-25256b595b26",
   "metadata": {},
   "outputs": [],
   "source": [
    "# vector del documento => vecotr columna\n",
    "term_doc[\"hola mundo\"].to_numpy()"
   ]
  },
  {
   "cell_type": "code",
   "execution_count": null,
   "id": "410d3417-178a-41d3-a39e-9d184bd423b6",
   "metadata": {},
   "outputs": [],
   "source": [
    "# vector de la palabra => vector fila\n",
    "term_doc.loc[\"hola\"].to_numpy()"
   ]
  },
  {
   "cell_type": "code",
   "execution_count": null,
   "id": "97e239ee-d1ca-4929-83b4-4f8079ffd39e",
   "metadata": {},
   "outputs": [],
   "source": [
    "sents = [\"similitud de vectores\", \"el aguante\"]\n",
    "Y = count_vec.transform(sents).toarray()\n",
    "pd.DataFrame(\n",
    "    Y,\n",
    "    columns=count_vec.get_feature_names_out(),\n",
    "    index=sents\n",
    ")"
   ]
  },
  {
   "cell_type": "markdown",
   "id": "703c66fb-dad3-441d-b6b8-91c2e803ac0b",
   "metadata": {
    "jp-MarkdownHeadingCollapsed": true
   },
   "source": [
    "## Similitud coseno"
   ]
  },
  {
   "cell_type": "markdown",
   "id": "de2df2ac-271d-44bf-a74f-6ab41f80622b",
   "metadata": {},
   "source": [
    "### Producto punto (_dot product_)"
   ]
  },
  {
   "cell_type": "markdown",
   "id": "9e13a1bd-b5f5-4352-8fab-4b5f85456e2a",
   "metadata": {},
   "source": [
    "$$\n",
    "\\text{dot product}(v,w) = v \\cdot w = \\sum_{i=1}^Nv_iw_i = v_iw_i+v_iw_i+...+v_Nw_N\n",
    "$$"
   ]
  },
  {
   "cell_type": "code",
   "execution_count": null,
   "id": "c1307785-438a-4431-ae05-ec22e2b4d406",
   "metadata": {},
   "outputs": [],
   "source": [
    "dp_df = pd.DataFrame(\n",
    "    {\n",
    "        \"texto_jardinería\":[6,4,8,1,0,15],\n",
    "        \"texto_transporte\":[0,0,1,7,8,13],\n",
    "        \"texto_industria\":[4,0,0,2,6,10]\n",
    "    },\n",
    "    index=[\"planta\",\"flor\",\"tierra\",\"asfalto\",\"auto\",\"de\"]\n",
    ")\n",
    "dp_df"
   ]
  },
  {
   "cell_type": "code",
   "execution_count": null,
   "id": "9552ed93-3cde-4a5b-88f6-a7578af74922",
   "metadata": {},
   "outputs": [],
   "source": [
    "vec_planta = dp_df.loc[\"planta\"].to_numpy()\n",
    "vec_planta"
   ]
  },
  {
   "cell_type": "code",
   "execution_count": null,
   "id": "e16f70a0-f542-49d4-8076-1f74cb322154",
   "metadata": {},
   "outputs": [],
   "source": [
    "vec_flor = dp_df.loc[\"flor\"].to_numpy()\n",
    "vec_flor"
   ]
  },
  {
   "cell_type": "code",
   "execution_count": null,
   "id": "b1c3c1d4-bbe3-4212-b9ac-5b0287ef5bb6",
   "metadata": {},
   "outputs": [],
   "source": [
    "vec_de = dp_df.loc[\"de\"].to_numpy()\n",
    "vec_de"
   ]
  },
  {
   "cell_type": "code",
   "execution_count": null,
   "id": "53f18092-ce8e-4b7b-9270-ee8869b56cea",
   "metadata": {},
   "outputs": [],
   "source": [
    "def calculate_dot_product(x:np.array, y:np.array, quiet: bool=False) -> np.array:\n",
    "    vec = x * y\n",
    "    total = vec.sum()\n",
    "    if not quiet:\n",
    "        print(f\"\"\"\n",
    "        Producto de las componentes del vector {x} y el vector {y}: {vec}\n",
    "        Cálculo:\n",
    "            < {', '.join([f'{m} * {n}' for m,n in list(zip(x,y))])} >\n",
    "    \n",
    "        Suma de todas las componentes de  {vec} = {total}\n",
    "        Cálculo:\n",
    "            {' + '.join(list(map(str,vec)))}\n",
    "        \"\"\")\n",
    "    return total"
   ]
  },
  {
   "cell_type": "code",
   "execution_count": null,
   "id": "427327d7-04a3-4407-8a6d-6cf2a526cec4",
   "metadata": {},
   "outputs": [],
   "source": [
    "vec_planta_flor = calculate_dot_product(vec_planta, vec_flor)"
   ]
  },
  {
   "cell_type": "code",
   "execution_count": null,
   "id": "7d9e5581-ad1e-411f-8d6a-4cf6b3c8955f",
   "metadata": {},
   "outputs": [],
   "source": [
    "vec_planta_de = calculate_dot_product(vec_planta, vec_de)"
   ]
  },
  {
   "cell_type": "markdown",
   "id": "006fa9bd-bf6c-4bde-a15d-eb76fb21dbc6",
   "metadata": {},
   "source": [
    "### Similitud coseno"
   ]
  },
  {
   "cell_type": "markdown",
   "id": "21e7b793-c997-4fad-9411-d753a8226d1d",
   "metadata": {},
   "source": [
    "La similitud coseno utiliza el producto punto normalizado por la norma de cada vector.\n",
    "\n",
    "Dicha norma se define como:\n",
    "\n",
    "$$\n",
    "\\vert v \\vert = \\sqrt{\\sum_{i=1}^Nv_i^2}\n",
    "$$\n",
    "\n",
    "Y el coseno queda definido del siguiente modo:\n",
    "\n",
    "$$\n",
    "cosine(v,w) = \\frac{v \\cdot w}{\\vert v \\vert \\vert w \\vert} = \\frac{\\sum_{i=1}^Nv_iw_i}{\\sqrt{\\sum_{i=1}^Nv_i^2} \\sqrt{\\sum_{i=1}^Nw_i^2}}\n",
    "$$"
   ]
  },
  {
   "cell_type": "code",
   "execution_count": null,
   "id": "c9fed9ec-541c-46f7-ab6a-42f1684a7c21",
   "metadata": {},
   "outputs": [],
   "source": [
    "from math import sqrt"
   ]
  },
  {
   "cell_type": "code",
   "execution_count": null,
   "id": "def42c95-181b-4dc7-90c6-d53376e97983",
   "metadata": {},
   "outputs": [],
   "source": [
    "def calculate_norm(x: np.array, quiet: bool=False) -> float:\n",
    "    _norm = (x**2)\n",
    "    _norm_sum = _norm.sum()\n",
    "    norm = sqrt(_norm_sum)\n",
    "    if not quiet:\n",
    "        print(f\"\"\"\n",
    "        Norma del vector {x}: {norm}\n",
    "        Cálculo\n",
    "            - < {', '.join([f'{i}**2' for i in list(map(str,x))])} > = < {', '.join(list(map(str,_norm)))} >\n",
    "            - < {' + '.join(list(map(str,_norm)))} > = {_norm_sum}\n",
    "            - sqrt( {_norm_sum} ) = {norm}\n",
    "        \"\"\")\n",
    "    return norm"
   ]
  },
  {
   "cell_type": "code",
   "execution_count": null,
   "id": "77eb2dfd-4a69-45d5-b9cb-129c617d1fb0",
   "metadata": {},
   "outputs": [],
   "source": [
    "norm_planta = calculate_norm(vec_planta)\n",
    "norm_flor = calculate_norm(vec_flor)\n",
    "norm_de = calculate_norm(vec_de)"
   ]
  },
  {
   "cell_type": "code",
   "execution_count": null,
   "id": "b13197f0-79a5-4640-bcaf-6e7f0215082f",
   "metadata": {},
   "outputs": [],
   "source": [
    "def calculate_cosine(x: np.array, y: np.array, quiet: bool=False) -> float:\n",
    "    dot_x_y = calculate_dot_product(x, y, quiet=quiet)\n",
    "    x_norm, y_norm = calculate_norm(x, quiet=quiet), calculate_norm(y, quiet=quiet)\n",
    "    cosine = dot_x_y / (x_norm*y_norm)\n",
    "    if not quiet:\n",
    "        print(f\"\"\"\n",
    "        cosine = {dot_x_y} / ( {x_norm} * {y_norm}) = {cosine}\n",
    "        \"\"\")\n",
    "    return cosine"
   ]
  },
  {
   "cell_type": "code",
   "execution_count": null,
   "id": "10d8fffd-40bd-49af-8846-1001e0c6b15c",
   "metadata": {},
   "outputs": [],
   "source": [
    "calculate_cosine(vec_planta, vec_flor, quiet=True)"
   ]
  },
  {
   "cell_type": "code",
   "execution_count": null,
   "id": "357f2e25-fbed-4c34-9b2c-12a45c9a3657",
   "metadata": {},
   "outputs": [],
   "source": [
    "calculate_cosine(vec_planta, vec_de, quiet=True)"
   ]
  },
  {
   "cell_type": "markdown",
   "id": "e412c50f-af40-4642-9893-bca1f31f6d8f",
   "metadata": {},
   "source": [
    "**¿Cómo interpretar el coseno?**\n",
    "\n",
    "Simplifiquemos mucho la situación. Supongamos que tenemos solo dos documentos: uno sobre jardinería y otro sobre yoga. Y tenemos las palabras _maceta_, _tierra_, _mat_. Las primeras dos aparecen con cierta frecuencia en el documento de jardinería, pero nunca en el de yoga, y la última solo aparece en este documento.\n",
    "\n",
    "Cada palabra se representará con un vector de dos dimensiones ( $\\mathbb{R}^2$ ), en el que la primera dimensión representará el número de ocurrencias de la palabra en el **documento \"jardín\"** y la segunda, las ocurrencias en el **documento \"yoga\"**."
   ]
  },
  {
   "cell_type": "code",
   "execution_count": null,
   "id": "a16619f9-3428-4af2-9214-94259b7a9da9",
   "metadata": {},
   "outputs": [],
   "source": [
    "import matplotlib.pyplot as plt\n",
    "from itertools import combinations"
   ]
  },
  {
   "cell_type": "code",
   "execution_count": null,
   "id": "bbefdc0e-467b-4ad4-935c-ac4dd6976a4b",
   "metadata": {},
   "outputs": [],
   "source": [
    "maceta = np.array([5, 0])\n",
    "tierra = np.array([3, 1])\n",
    "mat = np.array([0, 6])\n",
    "non_existent_word = np.array([0,-2])"
   ]
  },
  {
   "cell_type": "code",
   "execution_count": null,
   "id": "44d984ac-ecd5-4bf7-acf6-4163595addb1",
   "metadata": {},
   "outputs": [],
   "source": [
    "cosines = dict()\n",
    "for c in list(combinations([\"maceta\",\"tierra\",\"mat\",\"non_existent_word\"], 2)):\n",
    "    w1, w2 = eval(c[0]), eval(c[1])\n",
    "    cosines[f\"{c[0]}-{c[1]}\"] = calculate_cosine(w1, w2, quiet=True)\n",
    "cosines"
   ]
  },
  {
   "cell_type": "code",
   "execution_count": null,
   "id": "f6acf03a-2d9e-40fc-b812-f39d53d4f101",
   "metadata": {},
   "outputs": [],
   "source": [
    "fig, ax = plt.subplots()\n",
    "\n",
    "for word in [\"maceta\",\"tierra\",\"mat\",\"non_existent_word\"]:\n",
    "    vec = eval(word)\n",
    "    x, y = list(zip([0,0],vec))\n",
    "    ax.plot(x, y, '--', label=f\"norma de {word}\")\n",
    "    ax.scatter(x=vec[0], y=vec[1], label=word)\n",
    "plt.legend()\n",
    "plt.show()"
   ]
  },
  {
   "cell_type": "markdown",
   "id": "512ce1d6-500a-4070-ad92-4f275f1979d7",
   "metadata": {},
   "source": [
    "## TF-IDF"
   ]
  },
  {
   "cell_type": "markdown",
   "id": "9575c96b-c88c-4d96-9447-995cf721b576",
   "metadata": {},
   "source": [
    "TF-IDF fórmula en [_Vector Semantics and Embeddings_](https://web.stanford.edu/~jurafsky/slp3/6.pdf):\n",
    "\n",
    "$$w_{t,d} = tf_{t,d} \\times idf_{t}$$\n",
    "\n",
    "donde:\n",
    "\n",
    "$$\n",
    "tf_{t,d} = \\log_{10}(count(t,d) + 1)\n",
    "$$\n",
    "$$\n",
    "idf_{t} = \\log_{10} \\left( \\frac{N}{df_{t}} \\right)\n",
    "$$\n",
    "\n",
    "- _t_ = término\n",
    "- _d_ = documento\n",
    "- _N_ = cantidad total de documentos en el corpus\n",
    "- _df<sub>t</sub>_ = cantidad de documentos en los que aparece el término _t_"
   ]
  },
  {
   "cell_type": "markdown",
   "id": "e16bdee3-cec1-4b99-95af-391a8d0dfd98",
   "metadata": {},
   "source": [
    "`TfidfVectorizer`, la implementación de [sklearn](https://scikit-learn.org/stable/modules/generated/sklearn.feature_extraction.text.TfidfVectorizer.html), propone las siguientes parametrizaciones:\n",
    "\n",
    "- **norm**: `\"l1\"`, `\"l2\"` o `None`, por defecto = `\"l2\"`\n",
    "- **use_idf**: `False` o `True`, por defecto = `True`\n",
    "- **smooth_idf**: `False` o `True`, por defecto = `True`\n",
    "- **sublinear_tf**: `False` o `True`, por defecto = `False`\n",
    "\n",
    "Estos parámetros influyen del siguiente modo:\n",
    "\n",
    "- **norm**\n",
    "  - `\"l1\"` $\\rightarrow$ Los vectores resultantes de $tf \\times idf $ son normalizados por la norma de Manhattan, es decir, por la norma del vector $\\vert\\vert v \\vert\\vert_{1} = \\sum_{i=1}^N{v_i}$\n",
    "  - `\"l2\"` $\\rightarrow$ Los vectores resultantes de $tf \\times idf $ son normalizados por la norma euclidiana, es decir, por la norma del vector $\\vert\\vert v \\vert\\vert_{2} = \\sqrt{\\sum_{i=1}^N{v_i^2}}$\n",
    "  - `None` $\\rightarrow$ No realiza ninguna normalización\n",
    "- **use_idf**\n",
    "  - `False` $\\rightarrow idf_{t}=1$\n",
    "  - `True` $\\rightarrow$ utiliza alguno de los cálculos listados en *smooth_idf*\n",
    "- **smooth_idf**\n",
    "  - `False` $\\rightarrow idf_{t}=\\log_{10} \\left( \\frac{N}{df_{t}} + 1\\right)$, evita $\\log_{10}\\left(1\\right)$, lo que devolvería cero\n",
    "  - `True` $\\rightarrow idf_{t}=\\log_{10} \\left( \\frac{N+1}{df_{t}+1} + 1 \\right)$, agrega \"1\" al numerador y al denominador para simular que todos los términos fueron vistos en al menos un documento, esto evita la división por cero\n",
    "- **sublinear_tf**\n",
    "  - `False` $\\rightarrow tf_{t,d}=count(t,d)$\n",
    "  - `True` $\\rightarrow tf_{t,d} = 1 + \\log(count(t,d))$\n",
    " \n",
    "Así, la fórmula utilizada por defecto en la implementación de `scikit-learn` es:\n",
    "\n",
    "$$\n",
    "w_{t,d} = \\frac{count(t,d) \\times \\log_{10} \\left( \\frac{N+1}{df_{t}+1} + 1 \\right)}{\\sqrt{\\sum_{i=1}^N{v_i^2}}}\n",
    "$$\n",
    " \n",
    "Para más información ver la [Guía de Usuario](https://scikit-learn.org/stable/modules/feature_extraction.html#tfidf-term-weighting) de `scikit-learn`."
   ]
  },
  {
   "cell_type": "code",
   "execution_count": null,
   "id": "f4bed34f-855a-41d3-9309-d841c4d7a026",
   "metadata": {},
   "outputs": [],
   "source": [
    "from string import Template\n",
    "from IPython.display import display, Math\n",
    "\n",
    "def build_tfidf(norm: str, use_idf: bool, smooth_idf: bool, sublineat_tf: boll) -> None:\n",
    "    tf = \"count(t,d)\"\n",
    "    if use_idf:   \n",
    "        if smooth_idf:\n",
    "            idf = \"\\\\log_{10} \\\\left( \\\\frac{N+1}{df_{t}+1} + 1 \\\\right)\"\n",
    "        else:\n",
    "            idf = \"\\\\log_{10} \\\\left( \\\\frac{N}{df_{t}} + 1 \\\\right)\"\n",
    "    else:\n",
    "        idf = 1\n",
    "    if sublineat_tf:\n",
    "        tf = \"(1 + \\\\log({count}))\"\n",
    "    formula = f\"{tf} \\\\times {idf}\"\n",
    "    if norm:\n",
    "        if norm == 'l1':\n",
    "            denominator = \"\\\\sum_{i=1}^Nv_i\"\n",
    "        elif norm == 'l2':\n",
    "            denominator = \"\\\\sqrt{\\\\sum_{i=1}^Nv_i^2}\"\n",
    "        formula = Template(\"\\\\frac{$num}{$den}\").substitute(num=formula, den=denominator)\n",
    "    display(Math(formula))"
   ]
  },
  {
   "cell_type": "code",
   "execution_count": null,
   "id": "8fcbbc1b-cb10-4c6e-90fd-d95f0f8c72fc",
   "metadata": {},
   "outputs": [],
   "source": [
    "# misma fórmula que CountVectorizer => cuenta frecuencias absolutas\n",
    "build_tfidf(norm=None, use_idf=False, smooth_idf=False, sublineat_tf=False)"
   ]
  },
  {
   "cell_type": "code",
   "execution_count": null,
   "id": "f5007c7d-6935-4fd1-a0da-07b17116db8f",
   "metadata": {},
   "outputs": [],
   "source": [
    "# modificar mooth_idf sin cambiar use_idf no cambia nada\n",
    "build_tfidf(norm=None, use_idf=False, smooth_idf=True, sublineat_tf=False)"
   ]
  },
  {
   "cell_type": "code",
   "execution_count": null,
   "id": "db509911-94e4-4239-a994-3d5890afbbe1",
   "metadata": {},
   "outputs": [],
   "source": [
    "# implementación por defecto de scikit-learn\n",
    "build_tfidf(norm=\"l2\", use_idf=True, smooth_idf=True, sublineat_tf=False)"
   ]
  },
  {
   "cell_type": "code",
   "execution_count": null,
   "id": "f38d0685-4d5b-4540-9f2d-22fa2b23f60a",
   "metadata": {},
   "outputs": [],
   "source": [
    "import seaborn as sns\n",
    "from pandas.plotting import parallel_coordinates\n",
    "from sklearn.model_selection import ParameterGrid\n",
    "from sklearn.feature_extraction.text import TfidfVectorizer"
   ]
  },
  {
   "cell_type": "code",
   "execution_count": null,
   "id": "a173dc3a-622e-43e1-8a9f-b02a26df1cae",
   "metadata": {},
   "outputs": [],
   "source": [
    "params = {\n",
    "    \"norm\" : [None,\"l1\",\"l2\"],\n",
    "    \"use_idf\": [False,True],\n",
    "    \"smooth_idf\" : [False,True],\n",
    "    \"sublinear_tf\" : [False,True]\n",
    "}\n",
    "params_grid = list(ParameterGrid(params))\n",
    "params_grid[:3]"
   ]
  },
  {
   "cell_type": "code",
   "execution_count": null,
   "id": "3ebc15a4-c846-44ff-90c4-219bdcbbd191",
   "metadata": {},
   "outputs": [],
   "source": [
    "len(params_grid)"
   ]
  },
  {
   "cell_type": "code",
   "execution_count": null,
   "id": "5f5ec205-6da9-477d-b994-01859e664e7c",
   "metadata": {},
   "outputs": [],
   "source": [
    "# los casos en los que use_idf = False y smooth_idf = True no tienen sentido\n",
    "# se filtran\n",
    "params_grid = list(filter(lambda x: not(x[\"use_idf\"]==False and x[\"smooth_idf\"]==True),params_grid))\n",
    "len(params_grid)"
   ]
  },
  {
   "cell_type": "code",
   "execution_count": null,
   "id": "bacc6e96-5bad-4da2-8cff-38620e232314",
   "metadata": {},
   "outputs": [],
   "source": [
    "import pandas as pd\n",
    "import seaborn as sns\n",
    "import matplotlib.pyplot as plt\n",
    "\n",
    "\n",
    "fig, axs = plt.subplots(6,3, figsize=(18,21))\n",
    "row, col = 0, 0\n",
    "for pg in params_grid:\n",
    "    vectorizer = TfidfVectorizer(**pg)\n",
    "    X = vectorizer.fit_transform(corpus).toarray()\n",
    "    df = pd.DataFrame(X, columns=vectorizer.get_feature_names_out())\n",
    "    df[\"doc\"] = corpus\n",
    "    df = df.melt(id_vars=['doc'], var_name=['word'], value_name='score')\n",
    "    sns.barplot(data=df, x=\"word\", y=\"score\", hue=\"doc\", ax=axs[row,col])\n",
    "    axs[row,col].set_title(\"\\n\".join([f\"{k}: {v}\" for k,v in pg.items()]))\n",
    "    axs[row,col].tick_params(labelrotation=45,)\n",
    "    handles, labels = axs[row,col].get_legend_handles_labels()\n",
    "    axs[row,col].get_legend().remove()\n",
    "    col += 1\n",
    "    if col > 2:\n",
    "        row += 1\n",
    "        col = 0\n",
    "fig.legend(handles, labels, loc='upper center')\n",
    "fig.tight_layout()\n",
    "plt.show()"
   ]
  },
  {
   "cell_type": "markdown",
   "id": "5c08dce6-5a05-4ae8-89eb-71856b754fb2",
   "metadata": {},
   "source": [
    "## _Pointwise Mutual Information (PMI)_"
   ]
  },
  {
   "cell_type": "markdown",
   "id": "9ab7748b-ca3e-4204-94de-d6ea233a5ad4",
   "metadata": {},
   "source": [
    "TBD"
   ]
  },
  {
   "cell_type": "markdown",
   "id": "c0c4a789-aef1-4db0-b167-b3d0affaacd3",
   "metadata": {},
   "source": [
    "## Word2vec"
   ]
  },
  {
   "cell_type": "markdown",
   "id": "91d062f5-aa62-4951-a067-ee0b92237940",
   "metadata": {},
   "source": [
    "TBD"
   ]
  }
 ],
 "metadata": {
  "kernelspec": {
   "display_name": "Python 3 (ipykernel)",
   "language": "python",
   "name": "python3"
  },
  "language_info": {
   "codemirror_mode": {
    "name": "ipython",
    "version": 3
   },
   "file_extension": ".py",
   "mimetype": "text/x-python",
   "name": "python",
   "nbconvert_exporter": "python",
   "pygments_lexer": "ipython3",
   "version": "3.10.11"
  }
 },
 "nbformat": 4,
 "nbformat_minor": 5
}
